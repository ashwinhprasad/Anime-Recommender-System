{
  "nbformat": 4,
  "nbformat_minor": 0,
  "metadata": {
    "colab": {
      "name": "ContentBasedRecommender.ipynb",
      "provenance": [],
      "collapsed_sections": [
        "DIGy72_wISCL",
        "j3vyNCZ0IVHe",
        "6cOa5IPzIY5L",
        "Ij0gKBanIoS2",
        "ChvYkMyoIxlb",
        "sLMeBxTsI90L"
      ]
    },
    "kernelspec": {
      "name": "python3",
      "display_name": "Python 3"
    },
    "language_info": {
      "name": "python"
    }
  },
  "cells": [
    {
      "cell_type": "markdown",
      "metadata": {
        "id": "xKGNNnF1IOyE"
      },
      "source": [
        "# Content-Based Recommender System"
      ]
    },
    {
      "cell_type": "markdown",
      "metadata": {
        "id": "DIGy72_wISCL"
      },
      "source": [
        "## Importing Necessary Libraries"
      ]
    },
    {
      "cell_type": "code",
      "metadata": {
        "id": "RkQab2QTftkd"
      },
      "source": [
        "#importing the necessary libraries\n",
        "import numpy as np\n",
        "import pandas as pd\n",
        "import seaborn as sns\n",
        "import matplotlib.pyplot as plt\n",
        "from sklearn.feature_extraction.text import CountVectorizer"
      ],
      "execution_count": 1,
      "outputs": []
    },
    {
      "cell_type": "markdown",
      "metadata": {
        "id": "j3vyNCZ0IVHe"
      },
      "source": [
        "## Importing Dataset"
      ]
    },
    {
      "cell_type": "code",
      "metadata": {
        "colab": {
          "base_uri": "https://localhost:8080/",
          "height": 258
        },
        "id": "kMpbV_Paf2Z3",
        "outputId": "01ef2609-deb5-416d-8cf1-6a7758dd447b"
      },
      "source": [
        "# importing the datset\n",
        "df = pd.read_csv('/content/drive/MyDrive/Colab Notebooks/anime-recommender/dataset/anime.csv')\n",
        "rating_df = pd.read_csv('/content/drive/MyDrive/Colab Notebooks/anime-recommender/dataset/rating.csv')\n",
        "df.head()"
      ],
      "execution_count": 2,
      "outputs": [
        {
          "output_type": "execute_result",
          "data": {
            "text/html": [
              "<div>\n",
              "<style scoped>\n",
              "    .dataframe tbody tr th:only-of-type {\n",
              "        vertical-align: middle;\n",
              "    }\n",
              "\n",
              "    .dataframe tbody tr th {\n",
              "        vertical-align: top;\n",
              "    }\n",
              "\n",
              "    .dataframe thead th {\n",
              "        text-align: right;\n",
              "    }\n",
              "</style>\n",
              "<table border=\"1\" class=\"dataframe\">\n",
              "  <thead>\n",
              "    <tr style=\"text-align: right;\">\n",
              "      <th></th>\n",
              "      <th>anime_id</th>\n",
              "      <th>name</th>\n",
              "      <th>genre</th>\n",
              "      <th>type</th>\n",
              "      <th>episodes</th>\n",
              "      <th>rating</th>\n",
              "      <th>members</th>\n",
              "    </tr>\n",
              "  </thead>\n",
              "  <tbody>\n",
              "    <tr>\n",
              "      <th>0</th>\n",
              "      <td>32281</td>\n",
              "      <td>Kimi no Na wa.</td>\n",
              "      <td>Drama, Romance, School, Supernatural</td>\n",
              "      <td>Movie</td>\n",
              "      <td>1</td>\n",
              "      <td>9.37</td>\n",
              "      <td>200630</td>\n",
              "    </tr>\n",
              "    <tr>\n",
              "      <th>1</th>\n",
              "      <td>5114</td>\n",
              "      <td>Fullmetal Alchemist: Brotherhood</td>\n",
              "      <td>Action, Adventure, Drama, Fantasy, Magic, Mili...</td>\n",
              "      <td>TV</td>\n",
              "      <td>64</td>\n",
              "      <td>9.26</td>\n",
              "      <td>793665</td>\n",
              "    </tr>\n",
              "    <tr>\n",
              "      <th>2</th>\n",
              "      <td>28977</td>\n",
              "      <td>Gintama°</td>\n",
              "      <td>Action, Comedy, Historical, Parody, Samurai, S...</td>\n",
              "      <td>TV</td>\n",
              "      <td>51</td>\n",
              "      <td>9.25</td>\n",
              "      <td>114262</td>\n",
              "    </tr>\n",
              "    <tr>\n",
              "      <th>3</th>\n",
              "      <td>9253</td>\n",
              "      <td>Steins;Gate</td>\n",
              "      <td>Sci-Fi, Thriller</td>\n",
              "      <td>TV</td>\n",
              "      <td>24</td>\n",
              "      <td>9.17</td>\n",
              "      <td>673572</td>\n",
              "    </tr>\n",
              "    <tr>\n",
              "      <th>4</th>\n",
              "      <td>9969</td>\n",
              "      <td>Gintama&amp;#039;</td>\n",
              "      <td>Action, Comedy, Historical, Parody, Samurai, S...</td>\n",
              "      <td>TV</td>\n",
              "      <td>51</td>\n",
              "      <td>9.16</td>\n",
              "      <td>151266</td>\n",
              "    </tr>\n",
              "  </tbody>\n",
              "</table>\n",
              "</div>"
            ],
            "text/plain": [
              "   anime_id                              name  ... rating members\n",
              "0     32281                    Kimi no Na wa.  ...   9.37  200630\n",
              "1      5114  Fullmetal Alchemist: Brotherhood  ...   9.26  793665\n",
              "2     28977                          Gintama°  ...   9.25  114262\n",
              "3      9253                       Steins;Gate  ...   9.17  673572\n",
              "4      9969                     Gintama&#039;  ...   9.16  151266\n",
              "\n",
              "[5 rows x 7 columns]"
            ]
          },
          "metadata": {},
          "execution_count": 2
        }
      ]
    },
    {
      "cell_type": "code",
      "metadata": {
        "colab": {
          "base_uri": "https://localhost:8080/",
          "height": 206
        },
        "id": "a4qwUb6ejUvM",
        "outputId": "073bd0c6-2759-48cb-8706-a2426685944a"
      },
      "source": [
        "rating_df.head()"
      ],
      "execution_count": 3,
      "outputs": [
        {
          "output_type": "execute_result",
          "data": {
            "text/html": [
              "<div>\n",
              "<style scoped>\n",
              "    .dataframe tbody tr th:only-of-type {\n",
              "        vertical-align: middle;\n",
              "    }\n",
              "\n",
              "    .dataframe tbody tr th {\n",
              "        vertical-align: top;\n",
              "    }\n",
              "\n",
              "    .dataframe thead th {\n",
              "        text-align: right;\n",
              "    }\n",
              "</style>\n",
              "<table border=\"1\" class=\"dataframe\">\n",
              "  <thead>\n",
              "    <tr style=\"text-align: right;\">\n",
              "      <th></th>\n",
              "      <th>user_id</th>\n",
              "      <th>anime_id</th>\n",
              "      <th>rating</th>\n",
              "    </tr>\n",
              "  </thead>\n",
              "  <tbody>\n",
              "    <tr>\n",
              "      <th>0</th>\n",
              "      <td>1</td>\n",
              "      <td>20</td>\n",
              "      <td>-1</td>\n",
              "    </tr>\n",
              "    <tr>\n",
              "      <th>1</th>\n",
              "      <td>1</td>\n",
              "      <td>24</td>\n",
              "      <td>-1</td>\n",
              "    </tr>\n",
              "    <tr>\n",
              "      <th>2</th>\n",
              "      <td>1</td>\n",
              "      <td>79</td>\n",
              "      <td>-1</td>\n",
              "    </tr>\n",
              "    <tr>\n",
              "      <th>3</th>\n",
              "      <td>1</td>\n",
              "      <td>226</td>\n",
              "      <td>-1</td>\n",
              "    </tr>\n",
              "    <tr>\n",
              "      <th>4</th>\n",
              "      <td>1</td>\n",
              "      <td>241</td>\n",
              "      <td>-1</td>\n",
              "    </tr>\n",
              "  </tbody>\n",
              "</table>\n",
              "</div>"
            ],
            "text/plain": [
              "   user_id  anime_id  rating\n",
              "0        1        20      -1\n",
              "1        1        24      -1\n",
              "2        1        79      -1\n",
              "3        1       226      -1\n",
              "4        1       241      -1"
            ]
          },
          "metadata": {},
          "execution_count": 3
        }
      ]
    },
    {
      "cell_type": "markdown",
      "metadata": {
        "id": "6cOa5IPzIY5L"
      },
      "source": [
        "## Removing Unnecessary Columns"
      ]
    },
    {
      "cell_type": "code",
      "metadata": {
        "colab": {
          "base_uri": "https://localhost:8080/",
          "height": 224
        },
        "id": "PfoG0Zq8gU82",
        "outputId": "1079ee1e-3625-4a15-c7b7-088041dcf9a1"
      },
      "source": [
        "# Dropping the unnecessary columns\n",
        "df.drop(['type','episodes','members','rating'],axis=1,inplace=True)\n",
        "print(df.shape)\n",
        "df.head()"
      ],
      "execution_count": 4,
      "outputs": [
        {
          "output_type": "stream",
          "name": "stdout",
          "text": [
            "(12294, 3)\n"
          ]
        },
        {
          "output_type": "execute_result",
          "data": {
            "text/html": [
              "<div>\n",
              "<style scoped>\n",
              "    .dataframe tbody tr th:only-of-type {\n",
              "        vertical-align: middle;\n",
              "    }\n",
              "\n",
              "    .dataframe tbody tr th {\n",
              "        vertical-align: top;\n",
              "    }\n",
              "\n",
              "    .dataframe thead th {\n",
              "        text-align: right;\n",
              "    }\n",
              "</style>\n",
              "<table border=\"1\" class=\"dataframe\">\n",
              "  <thead>\n",
              "    <tr style=\"text-align: right;\">\n",
              "      <th></th>\n",
              "      <th>anime_id</th>\n",
              "      <th>name</th>\n",
              "      <th>genre</th>\n",
              "    </tr>\n",
              "  </thead>\n",
              "  <tbody>\n",
              "    <tr>\n",
              "      <th>0</th>\n",
              "      <td>32281</td>\n",
              "      <td>Kimi no Na wa.</td>\n",
              "      <td>Drama, Romance, School, Supernatural</td>\n",
              "    </tr>\n",
              "    <tr>\n",
              "      <th>1</th>\n",
              "      <td>5114</td>\n",
              "      <td>Fullmetal Alchemist: Brotherhood</td>\n",
              "      <td>Action, Adventure, Drama, Fantasy, Magic, Mili...</td>\n",
              "    </tr>\n",
              "    <tr>\n",
              "      <th>2</th>\n",
              "      <td>28977</td>\n",
              "      <td>Gintama°</td>\n",
              "      <td>Action, Comedy, Historical, Parody, Samurai, S...</td>\n",
              "    </tr>\n",
              "    <tr>\n",
              "      <th>3</th>\n",
              "      <td>9253</td>\n",
              "      <td>Steins;Gate</td>\n",
              "      <td>Sci-Fi, Thriller</td>\n",
              "    </tr>\n",
              "    <tr>\n",
              "      <th>4</th>\n",
              "      <td>9969</td>\n",
              "      <td>Gintama&amp;#039;</td>\n",
              "      <td>Action, Comedy, Historical, Parody, Samurai, S...</td>\n",
              "    </tr>\n",
              "  </tbody>\n",
              "</table>\n",
              "</div>"
            ],
            "text/plain": [
              "   anime_id  ...                                              genre\n",
              "0     32281  ...               Drama, Romance, School, Supernatural\n",
              "1      5114  ...  Action, Adventure, Drama, Fantasy, Magic, Mili...\n",
              "2     28977  ...  Action, Comedy, Historical, Parody, Samurai, S...\n",
              "3      9253  ...                                   Sci-Fi, Thriller\n",
              "4      9969  ...  Action, Comedy, Historical, Parody, Samurai, S...\n",
              "\n",
              "[5 rows x 3 columns]"
            ]
          },
          "metadata": {},
          "execution_count": 4
        }
      ]
    },
    {
      "cell_type": "markdown",
      "metadata": {
        "id": "Ij0gKBanIoS2"
      },
      "source": [
        "## Dealing with Missing Values"
      ]
    },
    {
      "cell_type": "code",
      "metadata": {
        "colab": {
          "base_uri": "https://localhost:8080/",
          "height": 335
        },
        "id": "EMnX3mOdjoE1",
        "outputId": "4a1144c2-3214-4dc4-8ee3-99b113a62d7e"
      },
      "source": [
        "# missing values\n",
        "sns.heatmap(df.isnull(),cbar=False,yticklabels=0)\n",
        "print(df.isnull().sum())\n",
        "plt.show()"
      ],
      "execution_count": 5,
      "outputs": [
        {
          "output_type": "stream",
          "name": "stdout",
          "text": [
            "anime_id     0\n",
            "name         0\n",
            "genre       62\n",
            "dtype: int64\n"
          ]
        },
        {
          "output_type": "display_data",
          "data": {
            "image/png": "[encoded data removed]",
            "text/plain": [
              "<Figure size 432x288 with 1 Axes>"
            ]
          },
          "metadata": {
            "needs_background": "light"
          }
        }
      ]
    },
    {
      "cell_type": "code",
      "metadata": {
        "colab": {
          "base_uri": "https://localhost:8080/",
          "height": 224
        },
        "id": "AI7twnzSj7Wp",
        "outputId": "0955f0d3-0ae0-491c-89b4-ce7fd47d5d59"
      },
      "source": [
        "# dropping null values\n",
        "df.dropna(inplace=True)\n",
        "print(df.shape)\n",
        "df.head()"
      ],
      "execution_count": 6,
      "outputs": [
        {
          "output_type": "stream",
          "name": "stdout",
          "text": [
            "(12232, 3)\n"
          ]
        },
        {
          "output_type": "execute_result",
          "data": {
            "text/html": [
              "<div>\n",
              "<style scoped>\n",
              "    .dataframe tbody tr th:only-of-type {\n",
              "        vertical-align: middle;\n",
              "    }\n",
              "\n",
              "    .dataframe tbody tr th {\n",
              "        vertical-align: top;\n",
              "    }\n",
              "\n",
              "    .dataframe thead th {\n",
              "        text-align: right;\n",
              "    }\n",
              "</style>\n",
              "<table border=\"1\" class=\"dataframe\">\n",
              "  <thead>\n",
              "    <tr style=\"text-align: right;\">\n",
              "      <th></th>\n",
              "      <th>anime_id</th>\n",
              "      <th>name</th>\n",
              "      <th>genre</th>\n",
              "    </tr>\n",
              "  </thead>\n",
              "  <tbody>\n",
              "    <tr>\n",
              "      <th>0</th>\n",
              "      <td>32281</td>\n",
              "      <td>Kimi no Na wa.</td>\n",
              "      <td>Drama, Romance, School, Supernatural</td>\n",
              "    </tr>\n",
              "    <tr>\n",
              "      <th>1</th>\n",
              "      <td>5114</td>\n",
              "      <td>Fullmetal Alchemist: Brotherhood</td>\n",
              "      <td>Action, Adventure, Drama, Fantasy, Magic, Mili...</td>\n",
              "    </tr>\n",
              "    <tr>\n",
              "      <th>2</th>\n",
              "      <td>28977</td>\n",
              "      <td>Gintama°</td>\n",
              "      <td>Action, Comedy, Historical, Parody, Samurai, S...</td>\n",
              "    </tr>\n",
              "    <tr>\n",
              "      <th>3</th>\n",
              "      <td>9253</td>\n",
              "      <td>Steins;Gate</td>\n",
              "      <td>Sci-Fi, Thriller</td>\n",
              "    </tr>\n",
              "    <tr>\n",
              "      <th>4</th>\n",
              "      <td>9969</td>\n",
              "      <td>Gintama&amp;#039;</td>\n",
              "      <td>Action, Comedy, Historical, Parody, Samurai, S...</td>\n",
              "    </tr>\n",
              "  </tbody>\n",
              "</table>\n",
              "</div>"
            ],
            "text/plain": [
              "   anime_id  ...                                              genre\n",
              "0     32281  ...               Drama, Romance, School, Supernatural\n",
              "1      5114  ...  Action, Adventure, Drama, Fantasy, Magic, Mili...\n",
              "2     28977  ...  Action, Comedy, Historical, Parody, Samurai, S...\n",
              "3      9253  ...                                   Sci-Fi, Thriller\n",
              "4      9969  ...  Action, Comedy, Historical, Parody, Samurai, S...\n",
              "\n",
              "[5 rows x 3 columns]"
            ]
          },
          "metadata": {},
          "execution_count": 6
        }
      ]
    },
    {
      "cell_type": "markdown",
      "metadata": {
        "id": "ChvYkMyoIxlb"
      },
      "source": [
        "## Data Pre-Processing"
      ]
    },
    {
      "cell_type": "code",
      "metadata": {
        "id": "clMn4xrq38dl"
      },
      "source": [
        "# removing commas\n",
        "def remove_comma(text):\n",
        "    return ' '.join(text.split(', '))\n",
        "\n",
        "# connecting multiwords\n",
        "def multi_words(text):\n",
        "    if \"Slice of Life\" in text:\n",
        "        text = text.split('Slice of Life')\n",
        "        text.append('SliceofLife')\n",
        "        text = ' '.join(text)\n",
        "    if \"Sci-Fi\" in text:\n",
        "        text = text.split('Sci-Fi')\n",
        "        text.append('SciFi')\n",
        "        text = ' '.join(text)\n",
        "    return text\n",
        "\n",
        "df['genre'] = df['genre'].apply(remove_comma)\n",
        "df['genre'] = df['genre'].apply(multi_words)"
      ],
      "execution_count": 7,
      "outputs": []
    },
    {
      "cell_type": "markdown",
      "metadata": {
        "id": "sLMeBxTsI90L"
      },
      "source": [
        "## Recommending to a Randomly Selected User"
      ]
    },
    {
      "cell_type": "code",
      "metadata": {
        "colab": {
          "base_uri": "https://localhost:8080/",
          "height": 112
        },
        "id": "to5KiWfaHG6V",
        "outputId": "ee694ee5-5526-4d70-8fd2-ce0a846d1f2b"
      },
      "source": [
        "# anime that user_5 likes\n",
        "user_id = 5\n",
        "rating_df[(rating_df['user_id'] == user_id) & (rating_df['rating'] > 9)]"
      ],
      "execution_count": 8,
      "outputs": [
        {
          "output_type": "execute_result",
          "data": {
            "text/html": [
              "<div>\n",
              "<style scoped>\n",
              "    .dataframe tbody tr th:only-of-type {\n",
              "        vertical-align: middle;\n",
              "    }\n",
              "\n",
              "    .dataframe tbody tr th {\n",
              "        vertical-align: top;\n",
              "    }\n",
              "\n",
              "    .dataframe thead th {\n",
              "        text-align: right;\n",
              "    }\n",
              "</style>\n",
              "<table border=\"1\" class=\"dataframe\">\n",
              "  <thead>\n",
              "    <tr style=\"text-align: right;\">\n",
              "      <th></th>\n",
              "      <th>user_id</th>\n",
              "      <th>anime_id</th>\n",
              "      <th>rating</th>\n",
              "    </tr>\n",
              "  </thead>\n",
              "  <tbody>\n",
              "    <tr>\n",
              "      <th>338</th>\n",
              "      <td>5</td>\n",
              "      <td>245</td>\n",
              "      <td>10</td>\n",
              "    </tr>\n",
              "    <tr>\n",
              "      <th>611</th>\n",
              "      <td>5</td>\n",
              "      <td>15335</td>\n",
              "      <td>10</td>\n",
              "    </tr>\n",
              "  </tbody>\n",
              "</table>\n",
              "</div>"
            ],
            "text/plain": [
              "     user_id  anime_id  rating\n",
              "338        5       245      10\n",
              "611        5     15335      10"
            ]
          },
          "metadata": {},
          "execution_count": 8
        }
      ]
    },
    {
      "cell_type": "code",
      "metadata": {
        "colab": {
          "base_uri": "https://localhost:8080/",
          "height": 112
        },
        "id": "edwDfNHoHS7k",
        "outputId": "66743050-a4ee-4237-ae7e-ad8bc2ed3c4d"
      },
      "source": [
        "# details of those anime that user_5 likes\n",
        "df[(df['anime_id'] == 15335) | (df['anime_id'] == 245)]"
      ],
      "execution_count": 9,
      "outputs": [
        {
          "output_type": "execute_result",
          "data": {
            "text/html": [
              "<div>\n",
              "<style scoped>\n",
              "    .dataframe tbody tr th:only-of-type {\n",
              "        vertical-align: middle;\n",
              "    }\n",
              "\n",
              "    .dataframe tbody tr th {\n",
              "        vertical-align: top;\n",
              "    }\n",
              "\n",
              "    .dataframe thead th {\n",
              "        text-align: right;\n",
              "    }\n",
              "</style>\n",
              "<table border=\"1\" class=\"dataframe\">\n",
              "  <thead>\n",
              "    <tr style=\"text-align: right;\">\n",
              "      <th></th>\n",
              "      <th>anime_id</th>\n",
              "      <th>name</th>\n",
              "      <th>genre</th>\n",
              "    </tr>\n",
              "  </thead>\n",
              "  <tbody>\n",
              "    <tr>\n",
              "      <th>8</th>\n",
              "      <td>15335</td>\n",
              "      <td>Gintama Movie: Kanketsu-hen - Yorozuya yo Eien...</td>\n",
              "      <td>Action Comedy Historical Parody Samurai   Shou...</td>\n",
              "    </tr>\n",
              "    <tr>\n",
              "      <th>30</th>\n",
              "      <td>245</td>\n",
              "      <td>Great Teacher Onizuka</td>\n",
              "      <td>Comedy Drama School Shounen   SliceofLife</td>\n",
              "    </tr>\n",
              "  </tbody>\n",
              "</table>\n",
              "</div>"
            ],
            "text/plain": [
              "    anime_id  ...                                              genre\n",
              "8      15335  ...  Action Comedy Historical Parody Samurai   Shou...\n",
              "30       245  ...          Comedy Drama School Shounen   SliceofLife\n",
              "\n",
              "[2 rows x 3 columns]"
            ]
          },
          "metadata": {},
          "execution_count": 9
        }
      ]
    },
    {
      "cell_type": "code",
      "metadata": {
        "colab": {
          "base_uri": "https://localhost:8080/"
        },
        "id": "75qMOx5g1Qct",
        "outputId": "42fa46f3-790a-4847-d498-67f58a83ec33"
      },
      "source": [
        "# creating user profile for user 5\n",
        "user_profile = []\n",
        "for anime_id in np.array(rating_df[(rating_df['user_id'] == user_id) & (rating_df['rating'] > 9)]):\n",
        "    for feature in np.array(df[df['anime_id'] == np.array(anime_id)[1]]['genre'])[0].split(' '):\n",
        "        if feature not in user_profile:\n",
        "            user_profile.append(feature)\n",
        "print(user_profile)"
      ],
      "execution_count": 10,
      "outputs": [
        {
          "output_type": "stream",
          "name": "stdout",
          "text": [
            "['Comedy', 'Drama', 'School', 'Shounen', '', 'SliceofLife', 'Action', 'Historical', 'Parody', 'Samurai', 'SciFi']\n"
          ]
        }
      ]
    },
    {
      "cell_type": "code",
      "metadata": {
        "colab": {
          "base_uri": "https://localhost:8080/",
          "height": 1000
        },
        "id": "yIMnbo824QY_",
        "outputId": "63b99369-8370-4cbc-b403-6526448fac97"
      },
      "source": [
        "# vectorizing the anime genre\n",
        "vectorizer = CountVectorizer()\n",
        "vectorized_genre = vectorizer.fit_transform(df['genre'])\n",
        "\n",
        "# making recommendations for user_5 based on previous likes\n",
        "user_profile_vector = vectorizer.transform([' '.join(user_profile)]).toarray()\n",
        "similarity = []\n",
        "for anime_vector in vectorized_genre.toarray():\n",
        "    similarity.append((anime_vector == user_profile_vector).mean())\n",
        "\n",
        "# display similar matrix\n",
        "df['like estimate'] = similarity\n",
        "df.sort_values(by='like estimate',ascending=False).head(30)"
      ],
      "execution_count": 11,
      "outputs": [
        {
          "output_type": "execute_result",
          "data": {
            "text/html": [
              "<div>\n",
              "<style scoped>\n",
              "    .dataframe tbody tr th:only-of-type {\n",
              "        vertical-align: middle;\n",
              "    }\n",
              "\n",
              "    .dataframe tbody tr th {\n",
              "        vertical-align: top;\n",
              "    }\n",
              "\n",
              "    .dataframe thead th {\n",
              "        text-align: right;\n",
              "    }\n",
              "</style>\n",
              "<table border=\"1\" class=\"dataframe\">\n",
              "  <thead>\n",
              "    <tr style=\"text-align: right;\">\n",
              "      <th></th>\n",
              "      <th>anime_id</th>\n",
              "      <th>name</th>\n",
              "      <th>genre</th>\n",
              "      <th>like estimate</th>\n",
              "    </tr>\n",
              "  </thead>\n",
              "  <tbody>\n",
              "    <tr>\n",
              "      <th>63</th>\n",
              "      <td>21899</td>\n",
              "      <td>Gintama: Yorinuki Gintama-san on Theater 2D</td>\n",
              "      <td>Action Comedy Historical Parody Samurai   Shou...</td>\n",
              "      <td>0.931818</td>\n",
              "    </tr>\n",
              "    <tr>\n",
              "      <th>65</th>\n",
              "      <td>7472</td>\n",
              "      <td>Gintama Movie: Shinyaku Benizakura-hen</td>\n",
              "      <td>Action Comedy Historical Parody Samurai   Shou...</td>\n",
              "      <td>0.931818</td>\n",
              "    </tr>\n",
              "    <tr>\n",
              "      <th>216</th>\n",
              "      <td>9735</td>\n",
              "      <td>Gintama: Shinyaku Benizakura-hen</td>\n",
              "      <td>Action Comedy Historical Parody Samurai   Shou...</td>\n",
              "      <td>0.931818</td>\n",
              "    </tr>\n",
              "    <tr>\n",
              "      <th>12</th>\n",
              "      <td>918</td>\n",
              "      <td>Gintama</td>\n",
              "      <td>Action Comedy Historical Parody Samurai   Shou...</td>\n",
              "      <td>0.931818</td>\n",
              "    </tr>\n",
              "    <tr>\n",
              "      <th>9</th>\n",
              "      <td>15417</td>\n",
              "      <td>Gintama&amp;#039;: Enchousen</td>\n",
              "      <td>Action Comedy Historical Parody Samurai   Shou...</td>\n",
              "      <td>0.931818</td>\n",
              "    </tr>\n",
              "    <tr>\n",
              "      <th>8</th>\n",
              "      <td>15335</td>\n",
              "      <td>Gintama Movie: Kanketsu-hen - Yorozuya yo Eien...</td>\n",
              "      <td>Action Comedy Historical Parody Samurai   Shou...</td>\n",
              "      <td>0.931818</td>\n",
              "    </tr>\n",
              "    <tr>\n",
              "      <th>306</th>\n",
              "      <td>25313</td>\n",
              "      <td>Gintama: Jump Festa 2014 Special</td>\n",
              "      <td>Action Comedy Historical Parody Samurai   Shou...</td>\n",
              "      <td>0.931818</td>\n",
              "    </tr>\n",
              "    <tr>\n",
              "      <th>4</th>\n",
              "      <td>9969</td>\n",
              "      <td>Gintama&amp;#039;</td>\n",
              "      <td>Action Comedy Historical Parody Samurai   Shou...</td>\n",
              "      <td>0.931818</td>\n",
              "    </tr>\n",
              "    <tr>\n",
              "      <th>2</th>\n",
              "      <td>28977</td>\n",
              "      <td>Gintama°</td>\n",
              "      <td>Action Comedy Historical Parody Samurai   Shou...</td>\n",
              "      <td>0.931818</td>\n",
              "    </tr>\n",
              "    <tr>\n",
              "      <th>10896</th>\n",
              "      <td>34096</td>\n",
              "      <td>Gintama (2017)</td>\n",
              "      <td>Action Comedy Historical Parody Samurai   Shou...</td>\n",
              "      <td>0.931818</td>\n",
              "    </tr>\n",
              "    <tr>\n",
              "      <th>380</th>\n",
              "      <td>2951</td>\n",
              "      <td>Gintama: Nanigoto mo Saiyo ga Kanjin nano de T...</td>\n",
              "      <td>Action Comedy Historical Mecha Parody Samurai ...</td>\n",
              "      <td>0.909091</td>\n",
              "    </tr>\n",
              "    <tr>\n",
              "      <th>3562</th>\n",
              "      <td>9568</td>\n",
              "      <td>Peace Maker Kurogane Special</td>\n",
              "      <td>Action Comedy Drama Historical Samurai Shounen</td>\n",
              "      <td>0.909091</td>\n",
              "    </tr>\n",
              "    <tr>\n",
              "      <th>361</th>\n",
              "      <td>32122</td>\n",
              "      <td>Gintama: Jump Festa 2015 Special</td>\n",
              "      <td>Action Comedy Historical Parody Samurai Shounen</td>\n",
              "      <td>0.909091</td>\n",
              "    </tr>\n",
              "    <tr>\n",
              "      <th>171</th>\n",
              "      <td>6945</td>\n",
              "      <td>Gintama: Shiroyasha Koutan</td>\n",
              "      <td>Action Comedy Historical Parody   SciFi</td>\n",
              "      <td>0.886364</td>\n",
              "    </tr>\n",
              "    <tr>\n",
              "      <th>30</th>\n",
              "      <td>245</td>\n",
              "      <td>Great Teacher Onizuka</td>\n",
              "      <td>Comedy Drama School Shounen   SliceofLife</td>\n",
              "      <td>0.886364</td>\n",
              "    </tr>\n",
              "    <tr>\n",
              "      <th>3170</th>\n",
              "      <td>10191</td>\n",
              "      <td>Katte ni Kaizou</td>\n",
              "      <td>Comedy Parody School   Shounen SciFi</td>\n",
              "      <td>0.886364</td>\n",
              "    </tr>\n",
              "    <tr>\n",
              "      <th>4245</th>\n",
              "      <td>12991</td>\n",
              "      <td>Katte ni Kaizou Specials</td>\n",
              "      <td>Comedy Parody School   Shounen SciFi</td>\n",
              "      <td>0.886364</td>\n",
              "    </tr>\n",
              "    <tr>\n",
              "      <th>2854</th>\n",
              "      <td>11441</td>\n",
              "      <td>Rurouni Kenshin: Meiji Kenkaku Romantan - Shin...</td>\n",
              "      <td>Action Drama Historical Samurai Shounen</td>\n",
              "      <td>0.886364</td>\n",
              "    </tr>\n",
              "    <tr>\n",
              "      <th>5132</th>\n",
              "      <td>30143</td>\n",
              "      <td>Bobobo-bo Bo-bobo Recap</td>\n",
              "      <td>Action Comedy Parody   Shounen SciFi</td>\n",
              "      <td>0.886364</td>\n",
              "    </tr>\n",
              "    <tr>\n",
              "      <th>11055</th>\n",
              "      <td>33185</td>\n",
              "      <td>Peace Maker Kurogane (Shinsaku)</td>\n",
              "      <td>Action Comedy Historical Samurai Shounen</td>\n",
              "      <td>0.886364</td>\n",
              "    </tr>\n",
              "    <tr>\n",
              "      <th>1833</th>\n",
              "      <td>161</td>\n",
              "      <td>Peace Maker Kurogane</td>\n",
              "      <td>Action Comedy Historical Samurai Shounen</td>\n",
              "      <td>0.886364</td>\n",
              "    </tr>\n",
              "    <tr>\n",
              "      <th>787</th>\n",
              "      <td>20847</td>\n",
              "      <td>Seitokai Yakuindomo*</td>\n",
              "      <td>Comedy School Shounen   SliceofLife</td>\n",
              "      <td>0.863636</td>\n",
              "    </tr>\n",
              "    <tr>\n",
              "      <th>1357</th>\n",
              "      <td>379</td>\n",
              "      <td>Heppoko Jikken Animation Excel♥Saga</td>\n",
              "      <td>Comedy Parody   Shounen SciFi</td>\n",
              "      <td>0.863636</td>\n",
              "    </tr>\n",
              "    <tr>\n",
              "      <th>2593</th>\n",
              "      <td>566</td>\n",
              "      <td>Tetsuwan Birdy</td>\n",
              "      <td>Action Comedy   Shounen SciFi</td>\n",
              "      <td>0.863636</td>\n",
              "    </tr>\n",
              "    <tr>\n",
              "      <th>301</th>\n",
              "      <td>24833</td>\n",
              "      <td>Ansatsu Kyoushitsu (TV)</td>\n",
              "      <td>Action Comedy School Shounen</td>\n",
              "      <td>0.863636</td>\n",
              "    </tr>\n",
              "    <tr>\n",
              "      <th>8620</th>\n",
              "      <td>18319</td>\n",
              "      <td>Gancheopjamneun Ttorijanggun</td>\n",
              "      <td>Action Drama   Shounen SciFi</td>\n",
              "      <td>0.863636</td>\n",
              "    </tr>\n",
              "    <tr>\n",
              "      <th>9745</th>\n",
              "      <td>21491</td>\n",
              "      <td>Ninjaman Ippei</td>\n",
              "      <td>Action Comedy School   SliceofLife</td>\n",
              "      <td>0.863636</td>\n",
              "    </tr>\n",
              "    <tr>\n",
              "      <th>9283</th>\n",
              "      <td>24489</td>\n",
              "      <td>Koha Ginjiro</td>\n",
              "      <td>Action Drama School Shounen</td>\n",
              "      <td>0.863636</td>\n",
              "    </tr>\n",
              "    <tr>\n",
              "      <th>3185</th>\n",
              "      <td>31374</td>\n",
              "      <td>Shingeki! Kyojin Chuugakkou</td>\n",
              "      <td>Comedy Parody School Shounen</td>\n",
              "      <td>0.863636</td>\n",
              "    </tr>\n",
              "    <tr>\n",
              "      <th>1686</th>\n",
              "      <td>1764</td>\n",
              "      <td>Slam Dunk (Movie)</td>\n",
              "      <td>Comedy Drama School Shounen   Sports SliceofLife</td>\n",
              "      <td>0.863636</td>\n",
              "    </tr>\n",
              "  </tbody>\n",
              "</table>\n",
              "</div>"
            ],
            "text/plain": [
              "       anime_id  ... like estimate\n",
              "63        21899  ...      0.931818\n",
              "65         7472  ...      0.931818\n",
              "216        9735  ...      0.931818\n",
              "12          918  ...      0.931818\n",
              "9         15417  ...      0.931818\n",
              "8         15335  ...      0.931818\n",
              "306       25313  ...      0.931818\n",
              "4          9969  ...      0.931818\n",
              "2         28977  ...      0.931818\n",
              "10896     34096  ...      0.931818\n",
              "380        2951  ...      0.909091\n",
              "3562       9568  ...      0.909091\n",
              "361       32122  ...      0.909091\n",
              "171        6945  ...      0.886364\n",
              "30          245  ...      0.886364\n",
              "3170      10191  ...      0.886364\n",
              "4245      12991  ...      0.886364\n",
              "2854      11441  ...      0.886364\n",
              "5132      30143  ...      0.886364\n",
              "11055     33185  ...      0.886364\n",
              "1833        161  ...      0.886364\n",
              "787       20847  ...      0.863636\n",
              "1357        379  ...      0.863636\n",
              "2593        566  ...      0.863636\n",
              "301       24833  ...      0.863636\n",
              "8620      18319  ...      0.863636\n",
              "9745      21491  ...      0.863636\n",
              "9283      24489  ...      0.863636\n",
              "3185      31374  ...      0.863636\n",
              "1686       1764  ...      0.863636\n",
              "\n",
              "[30 rows x 4 columns]"
            ]
          },
          "metadata": {},
          "execution_count": 11
        }
      ]
    }
  ]
}