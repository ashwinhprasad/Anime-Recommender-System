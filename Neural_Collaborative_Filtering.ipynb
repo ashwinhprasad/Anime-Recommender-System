{
  "nbformat": 4,
  "nbformat_minor": 0,
  "metadata": {
    "colab": {
      "name": "Neural-Collaborative Filtering.ipynb",
      "provenance": [],
      "collapsed_sections": [
        "yceRUn1d_KTi",
        "GPzpkIqq_Nx9",
        "hzz7KTyK_QX4",
        "fZoyIQVDAZ3P",
        "tiVcv35iFWy5",
        "fNbddIQ_F_b6",
        "JRwDcPMrIW2Z",
        "DJ5zHzWSaMXE",
        "cXB0GEigBABX"
      ]
    },
    "kernelspec": {
      "name": "python3",
      "display_name": "Python 3"
    },
    "language_info": {
      "name": "python"
    },
    "accelerator": "GPU"
  },
  "cells": [
    {
      "cell_type": "markdown",
      "metadata": {
        "id": "yceRUn1d_KTi"
      },
      "source": [
        "## Libraries"
      ]
    },
    {
      "cell_type": "code",
      "metadata": {
        "id": "7NQE2L4v8oZQ"
      },
      "source": [
        "import numpy as np\n",
        "import pandas as pd\n",
        "import matplotlib.pyplot as plt\n",
        "import seaborn as sns\n",
        "from tensorflow.keras.layers import Dense, Embedding, Input, Flatten, Concatenate, Dot\n",
        "from tensorflow.keras.models import Model\n",
        "import tensorflow as tf\n",
        "from sklearn.metrics import confusion_matrix, classification_report"
      ],
      "execution_count": 1,
      "outputs": []
    },
    {
      "cell_type": "markdown",
      "metadata": {
        "id": "GPzpkIqq_Nx9"
      },
      "source": [
        "## Dataset"
      ]
    },
    {
      "cell_type": "code",
      "metadata": {
        "colab": {
          "base_uri": "https://localhost:8080/",
          "height": 204
        },
        "id": "X-yOM1108yu2",
        "outputId": "56f6ceb1-2022-4da0-f8a4-ce10de3f8f94"
      },
      "source": [
        "anime_df = pd.read_csv('/content/drive/MyDrive/anime-recommender/dataset/anime.csv')\n",
        "rating_df = pd.read_csv('/content/drive/MyDrive/anime-recommender/dataset/rating.csv')\n",
        "rating_df.head()"
      ],
      "execution_count": 2,
      "outputs": [
        {
          "output_type": "execute_result",
          "data": {
            "text/html": [
              "<div>\n",
              "<style scoped>\n",
              "    .dataframe tbody tr th:only-of-type {\n",
              "        vertical-align: middle;\n",
              "    }\n",
              "\n",
              "    .dataframe tbody tr th {\n",
              "        vertical-align: top;\n",
              "    }\n",
              "\n",
              "    .dataframe thead th {\n",
              "        text-align: right;\n",
              "    }\n",
              "</style>\n",
              "<table border=\"1\" class=\"dataframe\">\n",
              "  <thead>\n",
              "    <tr style=\"text-align: right;\">\n",
              "      <th></th>\n",
              "      <th>user_id</th>\n",
              "      <th>anime_id</th>\n",
              "      <th>rating</th>\n",
              "    </tr>\n",
              "  </thead>\n",
              "  <tbody>\n",
              "    <tr>\n",
              "      <th>0</th>\n",
              "      <td>1</td>\n",
              "      <td>20</td>\n",
              "      <td>-1</td>\n",
              "    </tr>\n",
              "    <tr>\n",
              "      <th>1</th>\n",
              "      <td>1</td>\n",
              "      <td>24</td>\n",
              "      <td>-1</td>\n",
              "    </tr>\n",
              "    <tr>\n",
              "      <th>2</th>\n",
              "      <td>1</td>\n",
              "      <td>79</td>\n",
              "      <td>-1</td>\n",
              "    </tr>\n",
              "    <tr>\n",
              "      <th>3</th>\n",
              "      <td>1</td>\n",
              "      <td>226</td>\n",
              "      <td>-1</td>\n",
              "    </tr>\n",
              "    <tr>\n",
              "      <th>4</th>\n",
              "      <td>1</td>\n",
              "      <td>241</td>\n",
              "      <td>-1</td>\n",
              "    </tr>\n",
              "  </tbody>\n",
              "</table>\n",
              "</div>"
            ],
            "text/plain": [
              "   user_id  anime_id  rating\n",
              "0        1        20      -1\n",
              "1        1        24      -1\n",
              "2        1        79      -1\n",
              "3        1       226      -1\n",
              "4        1       241      -1"
            ]
          },
          "metadata": {},
          "execution_count": 2
        }
      ]
    },
    {
      "cell_type": "markdown",
      "metadata": {
        "id": "hzz7KTyK_QX4"
      },
      "source": [
        "## Ratings vs Counts"
      ]
    },
    {
      "cell_type": "code",
      "metadata": {
        "colab": {
          "base_uri": "https://localhost:8080/",
          "height": 385
        },
        "id": "znE9Wclq9YfA",
        "outputId": "522629ac-2310-4233-9580-2c3b9365f55d"
      },
      "source": [
        "plt.figure(figsize=(8,6))\n",
        "plt.bar(height=rating_df['rating'].value_counts(),x=list(rating_df['rating'].value_counts().index))\n",
        "plt.show()"
      ],
      "execution_count": 3,
      "outputs": [
        {
          "output_type": "display_data",
          "data": {
            "image/png": "[encoded data removed]",
            "text/plain": [
              "<Figure size 576x432 with 1 Axes>"
            ]
          },
          "metadata": {
            "needs_background": "light"
          }
        }
      ]
    },
    {
      "cell_type": "markdown",
      "metadata": {
        "id": "fZoyIQVDAZ3P"
      },
      "source": [
        "## Removing Columns with no ratings"
      ]
    },
    {
      "cell_type": "code",
      "metadata": {
        "colab": {
          "base_uri": "https://localhost:8080/",
          "height": 204
        },
        "id": "iRr6llHk9fkS",
        "outputId": "d54ba60d-ef1f-49b5-914c-aad28b452c3d"
      },
      "source": [
        "# removing unwanted columns\n",
        "rating_df = rating_df[rating_df['rating'] != -1]\n",
        "rating_df.head()"
      ],
      "execution_count": 4,
      "outputs": [
        {
          "output_type": "execute_result",
          "data": {
            "text/html": [
              "<div>\n",
              "<style scoped>\n",
              "    .dataframe tbody tr th:only-of-type {\n",
              "        vertical-align: middle;\n",
              "    }\n",
              "\n",
              "    .dataframe tbody tr th {\n",
              "        vertical-align: top;\n",
              "    }\n",
              "\n",
              "    .dataframe thead th {\n",
              "        text-align: right;\n",
              "    }\n",
              "</style>\n",
              "<table border=\"1\" class=\"dataframe\">\n",
              "  <thead>\n",
              "    <tr style=\"text-align: right;\">\n",
              "      <th></th>\n",
              "      <th>user_id</th>\n",
              "      <th>anime_id</th>\n",
              "      <th>rating</th>\n",
              "    </tr>\n",
              "  </thead>\n",
              "  <tbody>\n",
              "    <tr>\n",
              "      <th>47</th>\n",
              "      <td>1</td>\n",
              "      <td>8074</td>\n",
              "      <td>10</td>\n",
              "    </tr>\n",
              "    <tr>\n",
              "      <th>81</th>\n",
              "      <td>1</td>\n",
              "      <td>11617</td>\n",
              "      <td>10</td>\n",
              "    </tr>\n",
              "    <tr>\n",
              "      <th>83</th>\n",
              "      <td>1</td>\n",
              "      <td>11757</td>\n",
              "      <td>10</td>\n",
              "    </tr>\n",
              "    <tr>\n",
              "      <th>101</th>\n",
              "      <td>1</td>\n",
              "      <td>15451</td>\n",
              "      <td>10</td>\n",
              "    </tr>\n",
              "    <tr>\n",
              "      <th>153</th>\n",
              "      <td>2</td>\n",
              "      <td>11771</td>\n",
              "      <td>10</td>\n",
              "    </tr>\n",
              "  </tbody>\n",
              "</table>\n",
              "</div>"
            ],
            "text/plain": [
              "     user_id  anime_id  rating\n",
              "47         1      8074      10\n",
              "81         1     11617      10\n",
              "83         1     11757      10\n",
              "101        1     15451      10\n",
              "153        2     11771      10"
            ]
          },
          "metadata": {},
          "execution_count": 4
        }
      ]
    },
    {
      "cell_type": "markdown",
      "metadata": {
        "id": "tiVcv35iFWy5"
      },
      "source": [
        "## Ratings vs Count after encoding"
      ]
    },
    {
      "cell_type": "code",
      "metadata": {
        "colab": {
          "base_uri": "https://localhost:8080/",
          "height": 385
        },
        "id": "n6w_QlYsAg6Q",
        "outputId": "1c9e01eb-351a-4a6e-ab91-99f929a67da7"
      },
      "source": [
        "threshold = 8.0\n",
        "to_rep = [i for i in range(1,11)]\n",
        "val_rep = []\n",
        "for i in to_rep:\n",
        "    if i < threshold:\n",
        "        val_rep.append(0)\n",
        "    else:\n",
        "        val_rep.append(1)\n",
        "rating_df.replace(to_replace=to_rep,value=val_rep,inplace=True)\n",
        "plt.figure(figsize=(8,6))\n",
        "plt.bar(height=rating_df['rating'].value_counts(),x=list(rating_df['rating'].value_counts().index))\n",
        "plt.show()"
      ],
      "execution_count": 5,
      "outputs": [
        {
          "output_type": "display_data",
          "data": {
            "image/png": "[encoded data removed]",
            "text/plain": [
              "<Figure size 576x432 with 1 Axes>"
            ]
          },
          "metadata": {
            "needs_background": "light"
          }
        }
      ]
    },
    {
      "cell_type": "markdown",
      "metadata": {
        "id": "fNbddIQ_F_b6"
      },
      "source": [
        "## Dependent vs Independent"
      ]
    },
    {
      "cell_type": "code",
      "metadata": {
        "colab": {
          "base_uri": "https://localhost:8080/"
        },
        "id": "5NN0Ct08GBkf",
        "outputId": "84f7e90e-9a05-455f-83e9-cdf999d888ef"
      },
      "source": [
        "rating_df = rating_df.sample(frac=1)\n",
        "x_1 = np.array(rating_df['user_id']).reshape(-1,1)\n",
        "x_2 = np.array(rating_df['anime_id']).reshape(-1,1)\n",
        "y = np.array(rating_df['rating'])\n",
        "print(x_1.shape,x_2.shape,y.shape)"
      ],
      "execution_count": 6,
      "outputs": [
        {
          "output_type": "stream",
          "name": "stdout",
          "text": [
            "(6337241, 1) (6337241, 1) (6337241,)\n"
          ]
        }
      ]
    },
    {
      "cell_type": "markdown",
      "metadata": {
        "id": "JRwDcPMrIW2Z"
      },
      "source": [
        "## Tensorflow Model"
      ]
    },
    {
      "cell_type": "code",
      "metadata": {
        "colab": {
          "base_uri": "https://localhost:8080/"
        },
        "id": "lQqQywTAHnpy",
        "outputId": "2bb0dcff-bc09-461e-ba9c-a1ab3db3e884"
      },
      "source": [
        "# model architecture\n",
        "u = Input(shape=(1))\n",
        "a = Input(shape=(1))\n",
        "user_emb = Embedding(rating_df['user_id'].max()+1,10)(u)\n",
        "anime_emb = Embedding(rating_df['anime_id'].max()+1,10)(a)\n",
        "fl_1 = Flatten()(user_emb)\n",
        "fl_2 = Flatten()(anime_emb)\n",
        "dot = Concatenate()((fl_1,fl_2))\n",
        "fl_3 = Flatten()(dot)\n",
        "fc_1 = Dense(5,activation='relu')(fl_3)\n",
        "fc_2 = Dense(4,activation='relu')(fc_1)\n",
        "out = Dense(1,activation='sigmoid')(fc_2)\n",
        "model = Model(inputs=[u,a],outputs=[out])\n",
        "\n",
        "# model summary\n",
        "model.summary()"
      ],
      "execution_count": 7,
      "outputs": [
        {
          "output_type": "stream",
          "name": "stdout",
          "text": [
            "Model: \"model\"\n",
            "__________________________________________________________________________________________________\n",
            "Layer (type)                    Output Shape         Param #     Connected to                     \n",
            "==================================================================================================\n",
            "input_1 (InputLayer)            [(None, 1)]          0                                            \n",
            "__________________________________________________________________________________________________\n",
            "input_2 (InputLayer)            [(None, 1)]          0                                            \n",
            "__________________________________________________________________________________________________\n",
            "embedding (Embedding)           (None, 1, 10)        735170      input_1[0][0]                    \n",
            "__________________________________________________________________________________________________\n",
            "embedding_1 (Embedding)         (None, 1, 10)        344760      input_2[0][0]                    \n",
            "__________________________________________________________________________________________________\n",
            "flatten (Flatten)               (None, 10)           0           embedding[0][0]                  \n",
            "__________________________________________________________________________________________________\n",
            "flatten_1 (Flatten)             (None, 10)           0           embedding_1[0][0]                \n",
            "__________________________________________________________________________________________________\n",
            "concatenate (Concatenate)       (None, 20)           0           flatten[0][0]                    \n",
            "                                                                 flatten_1[0][0]                  \n",
            "__________________________________________________________________________________________________\n",
            "flatten_2 (Flatten)             (None, 20)           0           concatenate[0][0]                \n",
            "__________________________________________________________________________________________________\n",
            "dense (Dense)                   (None, 5)            105         flatten_2[0][0]                  \n",
            "__________________________________________________________________________________________________\n",
            "dense_1 (Dense)                 (None, 4)            24          dense[0][0]                      \n",
            "__________________________________________________________________________________________________\n",
            "dense_2 (Dense)                 (None, 1)            5           dense_1[0][0]                    \n",
            "==================================================================================================\n",
            "Total params: 1,080,064\n",
            "Trainable params: 1,080,064\n",
            "Non-trainable params: 0\n",
            "__________________________________________________________________________________________________\n"
          ]
        }
      ]
    },
    {
      "cell_type": "code",
      "metadata": {
        "colab": {
          "base_uri": "https://localhost:8080/"
        },
        "id": "RsXRxLBAXu8x",
        "outputId": "1becbbc9-248e-435e-e434-0ab257c36b73"
      },
      "source": [
        "model.compile(optimizer='adam',loss='binary_crossentropy',metrics=['accuracy'])\n",
        "train = model.fit(x=(x_1,x_2),y=y,epochs=10,batch_size=1024)"
      ],
      "execution_count": 8,
      "outputs": [
        {
          "output_type": "stream",
          "name": "stdout",
          "text": [
            "Epoch 1/10\n",
            "6189/6189 [==============================] - 43s 6ms/step - loss: 0.5084 - accuracy: 0.7469\n",
            "Epoch 2/10\n",
            "6189/6189 [==============================] - 40s 6ms/step - loss: 0.4806 - accuracy: 0.7633\n",
            "Epoch 3/10\n",
            "6189/6189 [==============================] - 39s 6ms/step - loss: 0.4735 - accuracy: 0.7675\n",
            "Epoch 4/10\n",
            "6189/6189 [==============================] - 39s 6ms/step - loss: 0.4686 - accuracy: 0.7704\n",
            "Epoch 5/10\n",
            "6189/6189 [==============================] - 39s 6ms/step - loss: 0.4649 - accuracy: 0.7727\n",
            "Epoch 6/10\n",
            "6189/6189 [==============================] - 39s 6ms/step - loss: 0.4616 - accuracy: 0.7748\n",
            "Epoch 7/10\n",
            "6189/6189 [==============================] - 39s 6ms/step - loss: 0.4589 - accuracy: 0.7765\n",
            "Epoch 8/10\n",
            "6189/6189 [==============================] - 39s 6ms/step - loss: 0.4566 - accuracy: 0.7779\n",
            "Epoch 9/10\n",
            "6189/6189 [==============================] - 39s 6ms/step - loss: 0.4546 - accuracy: 0.7790\n",
            "Epoch 10/10\n",
            "6189/6189 [==============================] - 39s 6ms/step - loss: 0.4529 - accuracy: 0.7800\n"
          ]
        }
      ]
    },
    {
      "cell_type": "markdown",
      "metadata": {
        "id": "DJ5zHzWSaMXE"
      },
      "source": [
        "## Model Analysis"
      ]
    },
    {
      "cell_type": "code",
      "metadata": {
        "colab": {
          "base_uri": "https://localhost:8080/",
          "height": 281
        },
        "id": "5e8xBzxOZNxV",
        "outputId": "b0b0771e-80ae-403d-bd34-aa85ea3c6883"
      },
      "source": [
        "# loss over time\n",
        "plt.title('Loss vs Epochs')\n",
        "plt.plot(train.history['loss'],label='Training Loss')\n",
        "plt.legend()\n",
        "plt.show()"
      ],
      "execution_count": 9,
      "outputs": [
        {
          "output_type": "display_data",
          "data": {
            "image/png": "[encoded data removed]",
            "text/plain": [
              "<Figure size 432x288 with 1 Axes>"
            ]
          },
          "metadata": {
            "needs_background": "light"
          }
        }
      ]
    },
    {
      "cell_type": "code",
      "metadata": {
        "colab": {
          "base_uri": "https://localhost:8080/",
          "height": 281
        },
        "id": "mQZme4HQaSei",
        "outputId": "6fe488cf-9368-416a-fe60-1a338b21c3e1"
      },
      "source": [
        "# accuracy over time\n",
        "plt.title('Accuracy vs Epochs')\n",
        "plt.plot(train.history['accuracy'],label='Training Accuracy')\n",
        "plt.legend()\n",
        "plt.show()"
      ],
      "execution_count": 10,
      "outputs": [
        {
          "output_type": "display_data",
          "data": {
            "image/png": "[encoded data removed]",
            "text/plain": [
              "<Figure size 432x288 with 1 Axes>"
            ]
          },
          "metadata": {
            "needs_background": "light"
          }
        }
      ]
    },
    {
      "cell_type": "code",
      "metadata": {
        "id": "-K1s-VtMaU0k"
      },
      "source": [
        "# confusion matrix\n",
        "y_pred = model.predict((x_1,x_2)).round()"
      ],
      "execution_count": 11,
      "outputs": []
    },
    {
      "cell_type": "code",
      "metadata": {
        "colab": {
          "base_uri": "https://localhost:8080/",
          "height": 418
        },
        "id": "MtwbEG4dacsM",
        "outputId": "1adfd62b-f9d0-4139-a98f-391bbd90c958"
      },
      "source": [
        "# confusion matrix\n",
        "sns.heatmap(confusion_matrix(y,y_pred),cbar=False,annot=True)\n",
        "plt.show()\n",
        "\n",
        "# classification report\n",
        "print(classification_report(y,y_pred))"
      ],
      "execution_count": 12,
      "outputs": [
        {
          "output_type": "display_data",
          "data": {
            "image/png": "[encoded data removed]",
            "text/plain": [
              "<Figure size 432x288 with 1 Axes>"
            ]
          },
          "metadata": {
            "needs_background": "light"
          }
        },
        {
          "output_type": "stream",
          "name": "stdout",
          "text": [
            "              precision    recall  f1-score   support\n",
            "\n",
            "           0       0.75      0.68      0.71   2481411\n",
            "           1       0.80      0.86      0.83   3855830\n",
            "\n",
            "    accuracy                           0.79   6337241\n",
            "   macro avg       0.78      0.77      0.77   6337241\n",
            "weighted avg       0.78      0.79      0.78   6337241\n",
            "\n"
          ]
        }
      ]
    },
    {
      "cell_type": "markdown",
      "metadata": {
        "id": "cXB0GEigBABX"
      },
      "source": [
        "## Making Predictions"
      ]
    },
    {
      "cell_type": "code",
      "metadata": {
        "colab": {
          "base_uri": "https://localhost:8080/"
        },
        "id": "c0dgyV5eAkKs",
        "outputId": "2dd2a331-b7b0-4166-88b1-9ea0d2cf8195"
      },
      "source": [
        "# model prediction for user 51606 with anime 1943\n",
        "model.predict(x=(np.array(51606).reshape(-1,1),np.array(1943).reshape(-1,1))).round()"
      ],
      "execution_count": 15,
      "outputs": [
        {
          "output_type": "execute_result",
          "data": {
            "text/plain": [
              "array([[0.]], dtype=float32)"
            ]
          },
          "metadata": {},
          "execution_count": 15
        }
      ]
    }
  ]
}